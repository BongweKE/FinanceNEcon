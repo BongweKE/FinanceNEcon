{
 "cells": [
  {
   "cell_type": "markdown",
   "id": "ffdf89cc-c417-4633-87c0-57242af4521d",
   "metadata": {},
   "source": [
    "# Compound interest\n",
    "\n",
    "FV_n = PV * (1+i) ^ n\n",
    "\n",
    "Where:\n",
    "\n",
    "PV = Principle\n",
    "i = interest\n",
    "n = Number of Time Periods. e.g Two months of payment, 3 times, 3 years, etc. Context is key "
   ]
  },
  {
   "cell_type": "code",
   "execution_count": 14,
   "id": "4854a430-9835-4804-b5ac-5ff22aee8470",
   "metadata": {},
   "outputs": [
    {
     "name": "stdout",
     "output_type": "stream",
     "text": [
      "This robot will calculate Compound Interest for you. Type ENTER after answering prompts\n",
      "\n",
      "\n",
      "Input Symbol of the currency you use\n"
     ]
    },
    {
     "name": "stdin",
     "output_type": "stream",
     "text": [
      " $\n"
     ]
    },
    {
     "name": "stdout",
     "output_type": "stream",
     "text": [
      "\n",
      "To avoid errors, only key in Numbers From  this point\n",
      "\n",
      "\n",
      "Input Value of principle:\n"
     ]
    },
    {
     "name": "stdin",
     "output_type": "stream",
     "text": [
      " 5000\n"
     ]
    },
    {
     "name": "stdout",
     "output_type": "stream",
     "text": [
      "Input Interest rate (use percentage as whole number e.g 5):\n"
     ]
    },
    {
     "name": "stdin",
     "output_type": "stream",
     "text": [
      " 6\n"
     ]
    },
    {
     "name": "stdout",
     "output_type": "stream",
     "text": [
      "Great, now input how many measures of time are stipulated in the contract. i.e installments\n"
     ]
    },
    {
     "name": "stdin",
     "output_type": "stream",
     "text": [
      " 12\n"
     ]
    },
    {
     "name": "stdout",
     "output_type": "stream",
     "text": [
      "FV for 12 installments = $10060.9824\n"
     ]
    }
   ],
   "source": [
    "import math\n",
    "\n",
    "print(\"This robot will calculate Compound Interest for you. Type ENTER after answering prompts\\n\\n\")\n",
    "print(\"Input Symbol of the currency you use\")\n",
    "sym = input()\n",
    "print(\"\\nTo avoid errors, only key in Numbers From  this point\\n\\n\")\n",
    "print(\"Input Value of principle:\")\n",
    "\n",
    "pv = float(input())\n",
    "\n",
    "print(\"Input Interest rate (use percentage as whole number e.g 5):\")\n",
    "\n",
    "i = float(input())/100\n",
    "print(\"Great, now input how many measures of time are stipulated in the contract. i.e installments\")\n",
    "\n",
    "n = float(input())\n",
    "\n",
    "FV = round(pv * math.pow((float(1) + i), n), 4)\n",
    "\n",
    "print(f\"FV for {int(n)} installments = {sym}{FV}\")"
   ]
  }
 ],
 "metadata": {
  "kernelspec": {
   "display_name": "venv",
   "language": "python",
   "name": "venv"
  },
  "language_info": {
   "codemirror_mode": {
    "name": "ipython",
    "version": 3
   },
   "file_extension": ".py",
   "mimetype": "text/x-python",
   "name": "python",
   "nbconvert_exporter": "python",
   "pygments_lexer": "ipython3",
   "version": "3.10.12"
  }
 },
 "nbformat": 4,
 "nbformat_minor": 5
}
